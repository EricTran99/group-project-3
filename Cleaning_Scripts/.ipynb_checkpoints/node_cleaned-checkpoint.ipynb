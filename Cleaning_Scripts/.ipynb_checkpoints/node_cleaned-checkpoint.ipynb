{
 "cells": [
  {
   "cell_type": "code",
   "execution_count": 1,
   "id": "c5de1c04",
   "metadata": {},
   "outputs": [],
   "source": [
    "# Import dependencies\n",
    "import pandas as pd\n",
    "from pathlib import Path"
   ]
  },
  {
   "cell_type": "code",
   "execution_count": 4,
   "id": "846f06c6",
   "metadata": {},
   "outputs": [],
   "source": [
    "# File to Load\n",
    "node_path = Path(\"../Datasets/NODE.csv\")"
   ]
  },
  {
   "cell_type": "code",
   "execution_count": 5,
   "id": "c8c30331",
   "metadata": {},
   "outputs": [],
   "source": [
    "# Read the CSV file\n",
    "node_data = pd.read_csv(node_path, low_memory=False)"
   ]
  },
  {
   "cell_type": "code",
   "execution_count": 6,
   "id": "3a562270",
   "metadata": {},
   "outputs": [
    {
     "data": {
      "text/html": [
       "<div>\n",
       "<style scoped>\n",
       "    .dataframe tbody tr th:only-of-type {\n",
       "        vertical-align: middle;\n",
       "    }\n",
       "\n",
       "    .dataframe tbody tr th {\n",
       "        vertical-align: top;\n",
       "    }\n",
       "\n",
       "    .dataframe thead th {\n",
       "        text-align: right;\n",
       "    }\n",
       "</style>\n",
       "<table border=\"1\" class=\"dataframe\">\n",
       "  <thead>\n",
       "    <tr style=\"text-align: right;\">\n",
       "      <th></th>\n",
       "      <th>ACCIDENT_NO</th>\n",
       "      <th>NODE_ID</th>\n",
       "      <th>NODE_TYPE</th>\n",
       "      <th>VICGRID94_X</th>\n",
       "      <th>VICGRID94_Y</th>\n",
       "      <th>LGA_NAME</th>\n",
       "      <th>LGA_NAME_ALL</th>\n",
       "      <th>REGION_NAME</th>\n",
       "      <th>DEG_URBAN_NAME</th>\n",
       "      <th>Lat</th>\n",
       "      <th>Long</th>\n",
       "      <th>POSTCODE_NO</th>\n",
       "    </tr>\n",
       "  </thead>\n",
       "  <tbody>\n",
       "    <tr>\n",
       "      <th>0</th>\n",
       "      <td>T20060002689</td>\n",
       "      <td>22</td>\n",
       "      <td>I</td>\n",
       "      <td>2495701.925</td>\n",
       "      <td>2411599.135</td>\n",
       "      <td>MELBOURNE</td>\n",
       "      <td>MELBOURNE</td>\n",
       "      <td>METROPOLITAN NORTH WEST REGION</td>\n",
       "      <td>MELB_URBAN</td>\n",
       "      <td>-37.796596</td>\n",
       "      <td>144.951197</td>\n",
       "      <td>3051</td>\n",
       "    </tr>\n",
       "    <tr>\n",
       "      <th>1</th>\n",
       "      <td>T20060010827</td>\n",
       "      <td>22</td>\n",
       "      <td>I</td>\n",
       "      <td>2495701.925</td>\n",
       "      <td>2411599.135</td>\n",
       "      <td>MELBOURNE</td>\n",
       "      <td>MELBOURNE</td>\n",
       "      <td>METROPOLITAN NORTH WEST REGION</td>\n",
       "      <td>MELB_URBAN</td>\n",
       "      <td>-37.796596</td>\n",
       "      <td>144.951197</td>\n",
       "      <td>3051</td>\n",
       "    </tr>\n",
       "    <tr>\n",
       "      <th>2</th>\n",
       "      <td>T20060017279</td>\n",
       "      <td>22</td>\n",
       "      <td>I</td>\n",
       "      <td>2495701.925</td>\n",
       "      <td>2411599.135</td>\n",
       "      <td>MELBOURNE</td>\n",
       "      <td>MELBOURNE</td>\n",
       "      <td>METROPOLITAN NORTH WEST REGION</td>\n",
       "      <td>MELB_URBAN</td>\n",
       "      <td>-37.796596</td>\n",
       "      <td>144.951197</td>\n",
       "      <td>3051</td>\n",
       "    </tr>\n",
       "    <tr>\n",
       "      <th>3</th>\n",
       "      <td>T20060041762</td>\n",
       "      <td>22</td>\n",
       "      <td>I</td>\n",
       "      <td>2495701.925</td>\n",
       "      <td>2411599.135</td>\n",
       "      <td>MELBOURNE</td>\n",
       "      <td>MELBOURNE</td>\n",
       "      <td>METROPOLITAN NORTH WEST REGION</td>\n",
       "      <td>MELB_URBAN</td>\n",
       "      <td>-37.796596</td>\n",
       "      <td>144.951197</td>\n",
       "      <td>3051</td>\n",
       "    </tr>\n",
       "    <tr>\n",
       "      <th>4</th>\n",
       "      <td>T20060047478</td>\n",
       "      <td>22</td>\n",
       "      <td>I</td>\n",
       "      <td>2495701.925</td>\n",
       "      <td>2411599.135</td>\n",
       "      <td>MELBOURNE</td>\n",
       "      <td>MELBOURNE</td>\n",
       "      <td>METROPOLITAN NORTH WEST REGION</td>\n",
       "      <td>MELB_URBAN</td>\n",
       "      <td>-37.796596</td>\n",
       "      <td>144.951197</td>\n",
       "      <td>3051</td>\n",
       "    </tr>\n",
       "  </tbody>\n",
       "</table>\n",
       "</div>"
      ],
      "text/plain": [
       "    ACCIDENT_NO  NODE_ID NODE_TYPE  VICGRID94_X  VICGRID94_Y   LGA_NAME  \\\n",
       "0  T20060002689       22         I  2495701.925  2411599.135  MELBOURNE   \n",
       "1  T20060010827       22         I  2495701.925  2411599.135  MELBOURNE   \n",
       "2  T20060017279       22         I  2495701.925  2411599.135  MELBOURNE   \n",
       "3  T20060041762       22         I  2495701.925  2411599.135  MELBOURNE   \n",
       "4  T20060047478       22         I  2495701.925  2411599.135  MELBOURNE   \n",
       "\n",
       "  LGA_NAME_ALL                     REGION_NAME DEG_URBAN_NAME        Lat  \\\n",
       "0    MELBOURNE  METROPOLITAN NORTH WEST REGION     MELB_URBAN -37.796596   \n",
       "1    MELBOURNE  METROPOLITAN NORTH WEST REGION     MELB_URBAN -37.796596   \n",
       "2    MELBOURNE  METROPOLITAN NORTH WEST REGION     MELB_URBAN -37.796596   \n",
       "3    MELBOURNE  METROPOLITAN NORTH WEST REGION     MELB_URBAN -37.796596   \n",
       "4    MELBOURNE  METROPOLITAN NORTH WEST REGION     MELB_URBAN -37.796596   \n",
       "\n",
       "         Long  POSTCODE_NO  \n",
       "0  144.951197         3051  \n",
       "1  144.951197         3051  \n",
       "2  144.951197         3051  \n",
       "3  144.951197         3051  \n",
       "4  144.951197         3051  "
      ]
     },
     "execution_count": 6,
     "metadata": {},
     "output_type": "execute_result"
    }
   ],
   "source": [
    "# Store it in a Dataframe\n",
    "node_data_df = pd.DataFrame(node_data)\n",
    "node_data_df.head()"
   ]
  },
  {
   "cell_type": "code",
   "execution_count": 7,
   "id": "aabdedf6",
   "metadata": {},
   "outputs": [
    {
     "data": {
      "text/plain": [
       "202854"
      ]
     },
     "execution_count": 7,
     "metadata": {},
     "output_type": "execute_result"
    }
   ],
   "source": [
    "# Get the total of unique accident data from node table\n",
    "unique_node_data = len(node_data[\"ACCIDENT_NO\"].unique())\n",
    "unique_node_data"
   ]
  },
  {
   "cell_type": "code",
   "execution_count": 8,
   "id": "79b8a0ce",
   "metadata": {},
   "outputs": [
    {
     "data": {
      "text/plain": [
       "ACCIDENT_NO        object\n",
       "NODE_ID             int64\n",
       "NODE_TYPE          object\n",
       "VICGRID94_X       float64\n",
       "VICGRID94_Y       float64\n",
       "LGA_NAME           object\n",
       "LGA_NAME_ALL       object\n",
       "REGION_NAME        object\n",
       "DEG_URBAN_NAME     object\n",
       "Lat               float64\n",
       "Long              float64\n",
       "POSTCODE_NO         int64\n",
       "dtype: object"
      ]
     },
     "execution_count": 8,
     "metadata": {},
     "output_type": "execute_result"
    }
   ],
   "source": [
    "# Checking the data types\n",
    "column_data_types = node_data_df.dtypes\n",
    "column_data_types"
   ]
  },
  {
   "cell_type": "code",
   "execution_count": 9,
   "id": "d92365ac",
   "metadata": {},
   "outputs": [],
   "source": [
    "# Changing data type into a string\n",
    "node_data_df['NODE_TYPE'] = node_data_df['NODE_TYPE'].astype(\"string\")"
   ]
  },
  {
   "cell_type": "code",
   "execution_count": 10,
   "id": "074840e9",
   "metadata": {},
   "outputs": [],
   "source": [
    "# Replace 'Empty Space' values with 'U' for unknown in the 'NODE_TYPE' column\n",
    "node_data_df['NODE_TYPE'] = node_data_df['NODE_TYPE'].replace(' ', 'U')"
   ]
  },
  {
   "cell_type": "code",
   "execution_count": 11,
   "id": "8c60c62c",
   "metadata": {},
   "outputs": [
    {
     "name": "stdout",
     "output_type": "stream",
     "text": [
      "ACCIDENT_NO       False\n",
      "NODE_ID           False\n",
      "NODE_TYPE         False\n",
      "VICGRID94_X       False\n",
      "VICGRID94_Y       False\n",
      "LGA_NAME          False\n",
      "LGA_NAME_ALL      False\n",
      "REGION_NAME       False\n",
      "DEG_URBAN_NAME    False\n",
      "Lat               False\n",
      "Long              False\n",
      "POSTCODE_NO       False\n",
      "dtype: bool\n"
     ]
    }
   ],
   "source": [
    "# Find columns with missing values\n",
    "columns_with_missing_values = node_data_df.isnull().any()\n",
    "\n",
    "# Display the columns with missing values\n",
    "print(columns_with_missing_values)"
   ]
  },
  {
   "cell_type": "code",
   "execution_count": 13,
   "id": "62c360ea",
   "metadata": {},
   "outputs": [],
   "source": [
    "# Storing file in Data folder\n",
    "cleaned_data_output_path = Path(\"../Cleaned_Datasets/node_cleaned.csv\")\n",
    "node_data_df.to_csv(cleaned_data_output_path, index=None, header=True)"
   ]
  },
  {
   "cell_type": "code",
   "execution_count": null,
   "id": "d2ede1bd",
   "metadata": {},
   "outputs": [],
   "source": []
  }
 ],
 "metadata": {
  "kernelspec": {
   "display_name": "Python 3 (ipykernel)",
   "language": "python",
   "name": "python3"
  },
  "language_info": {
   "codemirror_mode": {
    "name": "ipython",
    "version": 3
   },
   "file_extension": ".py",
   "mimetype": "text/x-python",
   "name": "python",
   "nbconvert_exporter": "python",
   "pygments_lexer": "ipython3",
   "version": "3.10.11"
  }
 },
 "nbformat": 4,
 "nbformat_minor": 5
}
