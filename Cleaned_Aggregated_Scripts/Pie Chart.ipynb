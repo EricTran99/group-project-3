{
 "cells": [
  {
   "cell_type": "code",
   "execution_count": 1,
   "id": "5e99cc6e",
   "metadata": {},
   "outputs": [],
   "source": [
    "# Import dependencies\n",
    "import pandas as pd\n",
    "from pathlib import Path\n",
    "import numpy as np"
   ]
  },
  {
   "cell_type": "code",
   "execution_count": 2,
   "id": "20df5ddb",
   "metadata": {},
   "outputs": [],
   "source": [
    "# File to Load\n",
    "cleaned_accident_path = Path(\"../Cleaned_Datasets/master_accident_cleaned.csv\")"
   ]
  },
  {
   "cell_type": "code",
   "execution_count": 3,
   "id": "61d54fe0",
   "metadata": {},
   "outputs": [],
   "source": [
    "# Read the CSV file\n",
    "cleaned_accident_data = pd.read_csv(cleaned_accident_path, low_memory=False)"
   ]
  },
  {
   "cell_type": "code",
   "execution_count": 4,
   "id": "62f233ce",
   "metadata": {},
   "outputs": [
    {
     "data": {
      "text/html": [
       "<div>\n",
       "<style scoped>\n",
       "    .dataframe tbody tr th:only-of-type {\n",
       "        vertical-align: middle;\n",
       "    }\n",
       "\n",
       "    .dataframe tbody tr th {\n",
       "        vertical-align: top;\n",
       "    }\n",
       "\n",
       "    .dataframe thead th {\n",
       "        text-align: right;\n",
       "    }\n",
       "</style>\n",
       "<table border=\"1\" class=\"dataframe\">\n",
       "  <thead>\n",
       "    <tr style=\"text-align: right;\">\n",
       "      <th></th>\n",
       "      <th>ACCIDENT_NO</th>\n",
       "      <th>ACCIDENTDATE</th>\n",
       "      <th>ACCIDENTTIME</th>\n",
       "      <th>ACCIDENT_TYPE</th>\n",
       "      <th>Accident_Type_Desc</th>\n",
       "      <th>DAY_OF_WEEK</th>\n",
       "      <th>Day_Week_Description</th>\n",
       "      <th>DCA_CODE</th>\n",
       "      <th>DCA_Description</th>\n",
       "      <th>LIGHT_CONDITION</th>\n",
       "      <th>...</th>\n",
       "      <th>NODE_ID</th>\n",
       "      <th>NODE_TYPE</th>\n",
       "      <th>LGA_NAME</th>\n",
       "      <th>REGION_NAME</th>\n",
       "      <th>DEG_URBAN_NAME</th>\n",
       "      <th>Lat</th>\n",
       "      <th>Long</th>\n",
       "      <th>POSTCODE_NO</th>\n",
       "      <th>Atmosph_Cond_Desc</th>\n",
       "      <th>Surface_Cond_Desc</th>\n",
       "    </tr>\n",
       "  </thead>\n",
       "  <tbody>\n",
       "    <tr>\n",
       "      <th>0</th>\n",
       "      <td>T20060000010</td>\n",
       "      <td>13/01/2006</td>\n",
       "      <td>12:42:00</td>\n",
       "      <td>1</td>\n",
       "      <td>Collision with vehicle</td>\n",
       "      <td>6</td>\n",
       "      <td>Friday</td>\n",
       "      <td>113</td>\n",
       "      <td>RIGHT NEAR (INTERSECTIONS ONLY)</td>\n",
       "      <td>1</td>\n",
       "      <td>...</td>\n",
       "      <td>43078</td>\n",
       "      <td>I</td>\n",
       "      <td>DANDENONG</td>\n",
       "      <td>METROPOLITAN SOUTH EAST REGION</td>\n",
       "      <td>MELB_URBAN</td>\n",
       "      <td>-37.988622</td>\n",
       "      <td>145.218049</td>\n",
       "      <td>3175</td>\n",
       "      <td>Clear</td>\n",
       "      <td>Dry</td>\n",
       "    </tr>\n",
       "    <tr>\n",
       "      <th>1</th>\n",
       "      <td>T20060000018</td>\n",
       "      <td>13/01/2006</td>\n",
       "      <td>19:10:00</td>\n",
       "      <td>1</td>\n",
       "      <td>Collision with vehicle</td>\n",
       "      <td>6</td>\n",
       "      <td>Friday</td>\n",
       "      <td>113</td>\n",
       "      <td>RIGHT NEAR (INTERSECTIONS ONLY)</td>\n",
       "      <td>1</td>\n",
       "      <td>...</td>\n",
       "      <td>29720</td>\n",
       "      <td>N</td>\n",
       "      <td>CASEY</td>\n",
       "      <td>METROPOLITAN SOUTH EAST REGION</td>\n",
       "      <td>MELB_URBAN</td>\n",
       "      <td>-37.990920</td>\n",
       "      <td>145.276320</td>\n",
       "      <td>3804</td>\n",
       "      <td>Clear</td>\n",
       "      <td>Dry</td>\n",
       "    </tr>\n",
       "    <tr>\n",
       "      <th>2</th>\n",
       "      <td>T20060000022</td>\n",
       "      <td>14/01/2006</td>\n",
       "      <td>12:10:00</td>\n",
       "      <td>7</td>\n",
       "      <td>Fall from or in moving vehicle</td>\n",
       "      <td>7</td>\n",
       "      <td>Saturday</td>\n",
       "      <td>190</td>\n",
       "      <td>FELL IN/FROM VEHICLE</td>\n",
       "      <td>1</td>\n",
       "      <td>...</td>\n",
       "      <td>203074</td>\n",
       "      <td>N</td>\n",
       "      <td>MORNINGTON PENINSULA</td>\n",
       "      <td>METROPOLITAN SOUTH EAST REGION</td>\n",
       "      <td>RURAL_VICTORIA</td>\n",
       "      <td>-38.396320</td>\n",
       "      <td>144.854890</td>\n",
       "      <td>3939</td>\n",
       "      <td>Clear</td>\n",
       "      <td>Dry</td>\n",
       "    </tr>\n",
       "    <tr>\n",
       "      <th>3</th>\n",
       "      <td>T20060000023</td>\n",
       "      <td>14/01/2006</td>\n",
       "      <td>11:49:00</td>\n",
       "      <td>1</td>\n",
       "      <td>Collision with vehicle</td>\n",
       "      <td>7</td>\n",
       "      <td>Saturday</td>\n",
       "      <td>130</td>\n",
       "      <td>REAR END(VEHICLES IN SAME LANE)</td>\n",
       "      <td>1</td>\n",
       "      <td>...</td>\n",
       "      <td>55462</td>\n",
       "      <td>I</td>\n",
       "      <td>DANDENONG</td>\n",
       "      <td>METROPOLITAN SOUTH EAST REGION</td>\n",
       "      <td>MELB_URBAN</td>\n",
       "      <td>-37.989185</td>\n",
       "      <td>145.144961</td>\n",
       "      <td>3172</td>\n",
       "      <td>Clear</td>\n",
       "      <td>Dry</td>\n",
       "    </tr>\n",
       "    <tr>\n",
       "      <th>4</th>\n",
       "      <td>T20060000026</td>\n",
       "      <td>14/01/2006</td>\n",
       "      <td>10:45:00</td>\n",
       "      <td>1</td>\n",
       "      <td>Collision with vehicle</td>\n",
       "      <td>7</td>\n",
       "      <td>Saturday</td>\n",
       "      <td>121</td>\n",
       "      <td>RIGHT THROUGH</td>\n",
       "      <td>1</td>\n",
       "      <td>...</td>\n",
       "      <td>202988</td>\n",
       "      <td>N</td>\n",
       "      <td>MORNINGTON PENINSULA</td>\n",
       "      <td>METROPOLITAN SOUTH EAST REGION</td>\n",
       "      <td>MELB_URBAN</td>\n",
       "      <td>-38.372990</td>\n",
       "      <td>144.871594</td>\n",
       "      <td>3940</td>\n",
       "      <td>Clear</td>\n",
       "      <td>Dry</td>\n",
       "    </tr>\n",
       "  </tbody>\n",
       "</table>\n",
       "<p>5 rows × 32 columns</p>\n",
       "</div>"
      ],
      "text/plain": [
       "    ACCIDENT_NO ACCIDENTDATE ACCIDENTTIME  ACCIDENT_TYPE  \\\n",
       "0  T20060000010   13/01/2006     12:42:00              1   \n",
       "1  T20060000018   13/01/2006     19:10:00              1   \n",
       "2  T20060000022   14/01/2006     12:10:00              7   \n",
       "3  T20060000023   14/01/2006     11:49:00              1   \n",
       "4  T20060000026   14/01/2006     10:45:00              1   \n",
       "\n",
       "               Accident_Type_Desc  DAY_OF_WEEK Day_Week_Description  DCA_CODE  \\\n",
       "0          Collision with vehicle            6               Friday       113   \n",
       "1          Collision with vehicle            6               Friday       113   \n",
       "2  Fall from or in moving vehicle            7             Saturday       190   \n",
       "3          Collision with vehicle            7             Saturday       130   \n",
       "4          Collision with vehicle            7             Saturday       121   \n",
       "\n",
       "                                  DCA_Description  LIGHT_CONDITION  ...  \\\n",
       "0  RIGHT NEAR (INTERSECTIONS ONLY)                               1  ...   \n",
       "1  RIGHT NEAR (INTERSECTIONS ONLY)                               1  ...   \n",
       "2        FELL IN/FROM VEHICLE                                    1  ...   \n",
       "3  REAR END(VEHICLES IN SAME LANE)                               1  ...   \n",
       "4           RIGHT THROUGH                                        1  ...   \n",
       "\n",
       "  NODE_ID  NODE_TYPE              LGA_NAME                     REGION_NAME  \\\n",
       "0   43078          I             DANDENONG  METROPOLITAN SOUTH EAST REGION   \n",
       "1   29720          N                 CASEY  METROPOLITAN SOUTH EAST REGION   \n",
       "2  203074          N  MORNINGTON PENINSULA  METROPOLITAN SOUTH EAST REGION   \n",
       "3   55462          I             DANDENONG  METROPOLITAN SOUTH EAST REGION   \n",
       "4  202988          N  MORNINGTON PENINSULA  METROPOLITAN SOUTH EAST REGION   \n",
       "\n",
       "   DEG_URBAN_NAME        Lat        Long  POSTCODE_NO  Atmosph_Cond_Desc  \\\n",
       "0      MELB_URBAN -37.988622  145.218049         3175              Clear   \n",
       "1      MELB_URBAN -37.990920  145.276320         3804              Clear   \n",
       "2  RURAL_VICTORIA -38.396320  144.854890         3939              Clear   \n",
       "3      MELB_URBAN -37.989185  145.144961         3172              Clear   \n",
       "4      MELB_URBAN -38.372990  144.871594         3940              Clear   \n",
       "\n",
       "  Surface_Cond_Desc  \n",
       "0               Dry  \n",
       "1               Dry  \n",
       "2               Dry  \n",
       "3               Dry  \n",
       "4               Dry  \n",
       "\n",
       "[5 rows x 32 columns]"
      ]
     },
     "execution_count": 4,
     "metadata": {},
     "output_type": "execute_result"
    }
   ],
   "source": [
    "# Store it in a Dataframe\n",
    "cleaned_accident_data_df = pd.DataFrame(cleaned_accident_data)\n",
    "cleaned_accident_data_df.head()"
   ]
  },
  {
   "cell_type": "code",
   "execution_count": 5,
   "id": "8f042e9d",
   "metadata": {},
   "outputs": [
    {
     "name": "stdout",
     "output_type": "stream",
     "text": [
      "Index(['ACCIDENT_NO', 'ACCIDENTDATE', 'ACCIDENTTIME', 'ACCIDENT_TYPE',\n",
      "       'Accident_Type_Desc', 'DAY_OF_WEEK', 'Day_Week_Description', 'DCA_CODE',\n",
      "       'DCA_Description', 'LIGHT_CONDITION', 'Light Condition Desc',\n",
      "       'NO_OF_VEHICLES', 'NO_PERSONS', 'NO_PERSONS_INJ_2', 'NO_PERSONS_INJ_3',\n",
      "       'NO_PERSONS_KILLED', 'NO_PERSONS_NOT_INJ', 'POLICE_ATTEND',\n",
      "       'ROAD_GEOMETRY', 'Road Geometry Desc', 'SEVERITY', 'SPEED_ZONE',\n",
      "       'NODE_ID', 'NODE_TYPE', 'LGA_NAME', 'REGION_NAME', 'DEG_URBAN_NAME',\n",
      "       'Lat', 'Long', 'POSTCODE_NO', 'Atmosph_Cond_Desc', 'Surface_Cond_Desc'],\n",
      "      dtype='object')\n"
     ]
    }
   ],
   "source": [
    "# Print column names\n",
    "column_names = cleaned_accident_data_df.columns\n",
    "\n",
    "print(column_names)"
   ]
  },
  {
   "cell_type": "code",
   "execution_count": 8,
   "id": "23fc7ecf",
   "metadata": {},
   "outputs": [
    {
     "name": "stdout",
     "output_type": "stream",
     "text": [
      "         ACCIDENT_NO  NO_PERSONS  NO_PERSONS_KILLED  DEG_URBAN_NAME\n",
      "0       T20060000010           6                  0      MELB_URBAN\n",
      "1       T20060000018           4                  0      MELB_URBAN\n",
      "2       T20060000022           2                  0  RURAL_VICTORIA\n",
      "3       T20060000023           2                  0      MELB_URBAN\n",
      "4       T20060000026           3                  0      MELB_URBAN\n",
      "...              ...         ...                ...             ...\n",
      "202802  T20200019125           2                  0      MELB_URBAN\n",
      "202803  T20200019195           2                  0      MELB_URBAN\n",
      "202804  T20200019239           4                  0      MELB_URBAN\n",
      "202805  T20200019247           2                  0           TOWNS\n",
      "202806  T20200019253           1                  0  RURAL_VICTORIA\n",
      "\n",
      "[202807 rows x 4 columns]\n"
     ]
    }
   ],
   "source": [
    "# Columns to drop\n",
    "columns_to_drop = [\"ACCIDENTDATE\", \n",
    "                   \"ACCIDENTTIME\",\n",
    "                   \"ACCIDENT_TYPE\",\n",
    "                   \"Accident_Type_Desc\",\n",
    "                   \"DAY_OF_WEEK\", \n",
    "                   \"Day_Week_Description\",\n",
    "                   \"DCA_CODE\", \n",
    "                   \"DCA_Description\",\n",
    "                   \"LIGHT_CONDITION\",\n",
    "                   \"Light Condition Desc\",\n",
    "                   \"NO_OF_VEHICLES\",\n",
    "                   \"NO_PERSONS_INJ_2\",\n",
    "                   \"NO_PERSONS_INJ_3\",\n",
    "                   \"NO_PERSONS_NOT_INJ\",\n",
    "                   \"POLICE_ATTEND\",\n",
    "                   \"ROAD_GEOMETRY\",\n",
    "                   \"Road Geometry Desc\",\n",
    "                   \"SEVERITY\",\n",
    "                   \"SPEED_ZONE\",\n",
    "                   \"NODE_ID\",\n",
    "                   \"NODE_TYPE\",\n",
    "                   \"LGA_NAME\",\n",
    "                   \"REGION_NAME\",\n",
    "                   \"Lat\",\n",
    "                   \"Long\",\n",
    "                   \"POSTCODE_NO\",\n",
    "                   \"Atmosph_Cond_Desc\",\n",
    "                   \"Surface_Cond_Desc\",\n",
    "                  ]\n",
    "\n",
    "# Use the drop method to remove the specified columns\n",
    "shorted_column_df = cleaned_accident_data_df.drop(columns=columns_to_drop)\n",
    "print(shorted_column_df)"
   ]
  },
  {
   "cell_type": "code",
   "execution_count": 9,
   "id": "d1cf82dc",
   "metadata": {},
   "outputs": [
    {
     "data": {
      "text/plain": [
       "ACCIDENT_NO          object\n",
       "NO_PERSONS            int64\n",
       "NO_PERSONS_KILLED     int64\n",
       "DEG_URBAN_NAME       object\n",
       "dtype: object"
      ]
     },
     "execution_count": 9,
     "metadata": {},
     "output_type": "execute_result"
    }
   ],
   "source": [
    "# Checking the data types\n",
    "shorted_column_df.dtypes"
   ]
  },
  {
   "cell_type": "code",
   "execution_count": 10,
   "id": "67e152ab",
   "metadata": {},
   "outputs": [
    {
     "name": "stdout",
     "output_type": "stream",
     "text": [
      "MELB_URBAN\n",
      "RURAL_VICTORIA\n",
      "SMALL_CITIES\n",
      "TOWNS\n",
      "SMALL_TOWNS\n",
      "LARGE_PROVINCIAL_CITIES\n",
      "MELBOURNE_CBD\n"
     ]
    }
   ],
   "source": [
    "# Get the unique age group\n",
    "urban_unique_values = shorted_column_df['DEG_URBAN_NAME'].unique()\n",
    "\n",
    "# Print the unique values\n",
    "for value in urban_unique_values:\n",
    "    print(value)"
   ]
  },
  {
   "cell_type": "code",
   "execution_count": 11,
   "id": "57919b67",
   "metadata": {},
   "outputs": [
    {
     "name": "stdout",
     "output_type": "stream",
     "text": [
      "                         Total_Accident  Total_Person  Fatal_Accident\n",
      "DEG_URBAN_NAME                                                       \n",
      "LARGE_PROVINCIAL_CITIES           11226         28575             120\n",
      "MELBOURNE_CBD                      2025          4934               4\n",
      "MELB_URBAN                       130196        328216            1459\n",
      "RURAL_VICTORIA                    41454         83911            2144\n",
      "SMALL_CITIES                      10167         25366             138\n",
      "SMALL_TOWNS                        1602          3594              44\n",
      "TOWNS                              6137         14853             125\n"
     ]
    }
   ],
   "source": [
    "# Group the DataFrame by 'DEG_URBAN_NAME' and calculate the total for each group\n",
    "result = shorted_column_df.groupby('DEG_URBAN_NAME').agg({\n",
    "    'ACCIDENT_NO': 'count',\n",
    "    'NO_PERSONS': 'sum',\n",
    "    'NO_PERSONS_KILLED': 'sum'\n",
    "})\n",
    "\n",
    "# Rename the columns for clarity\n",
    "result = result.rename(columns={\n",
    "    'ACCIDENT_NO': 'Total_Accident',\n",
    "    'NO_PERSONS': 'Total_Person',\n",
    "    'NO_PERSONS_KILLED': 'Fatal_Accident'\n",
    "})\n",
    "\n",
    "# Display the result with 'DEG_URBAN_NAME' as the index\n",
    "print(result)"
   ]
  },
  {
   "cell_type": "code",
   "execution_count": 12,
   "id": "e74261f3",
   "metadata": {},
   "outputs": [
    {
     "data": {
      "text/plain": [
       "[28455, 4930, 326757, 81767, 25228, 3550, 14728]"
      ]
     },
     "execution_count": 12,
     "metadata": {},
     "output_type": "execute_result"
    }
   ],
   "source": [
    "# Calculate 'Total_Person_minus_Fatal' and add it to the DataFrame\n",
    "result['Non_Fatal_Accident'] = result['Total_Person'] - result['Fatal_Accident']\n",
    "\n",
    "# Store 'Total_Person_minus_Fatal' values in an empty list\n",
    "non_fatal_list = result['Non_Fatal_Accident'].tolist()\n",
    "non_fatal_list"
   ]
  },
  {
   "cell_type": "code",
   "execution_count": 19,
   "id": "d12185ee",
   "metadata": {},
   "outputs": [
    {
     "name": "stdout",
     "output_type": "stream",
     "text": [
      "                         Total_Accident  Total_Person  Fatal_Accident  \\\n",
      "DEG_URBAN_NAME                                                          \n",
      "LARGE_PROVINCIAL_CITIES           11226         28575             120   \n",
      "MELBOURNE_CBD                      2025          4934               4   \n",
      "MELB_URBAN                       130196        328216            1459   \n",
      "RURAL_VICTORIA                    41454         83911            2144   \n",
      "SMALL_CITIES                      10167         25366             138   \n",
      "SMALL_TOWNS                        1602          3594              44   \n",
      "TOWNS                              6137         14853             125   \n",
      "\n",
      "                         Non_Fatal_Accident Percentage_Fatal  \n",
      "DEG_URBAN_NAME                                                \n",
      "LARGE_PROVINCIAL_CITIES               28455            2.97%  \n",
      "MELBOURNE_CBD                          4930            0.10%  \n",
      "MELB_URBAN                           326757           36.17%  \n",
      "RURAL_VICTORIA                        81767           53.15%  \n",
      "SMALL_CITIES                          25228            3.42%  \n",
      "SMALL_TOWNS                            3550            1.09%  \n",
      "TOWNS                                 14728            3.10%  \n"
     ]
    }
   ],
   "source": [
    "# Calculate the total number of fatal accidents across all categories\n",
    "total_fatal_accidents = result['Fatal_Accident'].sum()\n",
    "\n",
    "# Loop through each DEG_URBAN_NAME category and calculate the percentage relative to total fatal accidents\n",
    "for deg_urban_name in result.index:\n",
    "    fatal_accidents_category = result.loc[deg_urban_name, 'Fatal_Accident']\n",
    "    percentage_fatal = (fatal_accidents_category / total_fatal_accidents) * 100\n",
    "    result.loc[deg_urban_name, 'Percentage_Fatal'] = percentage_fatal\n",
    "\n",
    "# Format the percentages with two digits and a '%' sign\n",
    "result['Percentage_Fatal'] = result['Percentage_Fatal'].apply(lambda x: f'{x:.2f}%')\n",
    "\n",
    "# Display the result\n",
    "print(result)"
   ]
  },
  {
   "cell_type": "code",
   "execution_count": 22,
   "id": "821746f5",
   "metadata": {},
   "outputs": [
    {
     "name": "stdout",
     "output_type": "stream",
     "text": [
      "                         Total_Accident  Total_Person  Fatal_Accident  \\\n",
      "DEG_URBAN_NAME                                                          \n",
      "LARGE_PROVINCIAL_CITIES           11226         28575             120   \n",
      "MELBOURNE_CBD                      2025          4934               4   \n",
      "MELB_URBAN                       130196        328216            1459   \n",
      "RURAL_VICTORIA                    41454         83911            2144   \n",
      "SMALL_CITIES                      10167         25366             138   \n",
      "SMALL_TOWNS                        1602          3594              44   \n",
      "TOWNS                              6137         14853             125   \n",
      "\n",
      "                         Non_Fatal_Accident Percentage_Fatal  \\\n",
      "DEG_URBAN_NAME                                                 \n",
      "LARGE_PROVINCIAL_CITIES               28455            2.97%   \n",
      "MELBOURNE_CBD                          4930            0.10%   \n",
      "MELB_URBAN                           326757           36.17%   \n",
      "RURAL_VICTORIA                        81767           53.15%   \n",
      "SMALL_CITIES                          25228            3.42%   \n",
      "SMALL_TOWNS                            3550            1.09%   \n",
      "TOWNS                                 14728            3.10%   \n",
      "\n",
      "                        Percentage_Non_Fatal  \n",
      "DEG_URBAN_NAME                                \n",
      "LARGE_PROVINCIAL_CITIES                5.86%  \n",
      "MELBOURNE_CBD                          1.02%  \n",
      "MELB_URBAN                            67.31%  \n",
      "RURAL_VICTORIA                        16.84%  \n",
      "SMALL_CITIES                           5.20%  \n",
      "SMALL_TOWNS                            0.73%  \n",
      "TOWNS                                  3.03%  \n"
     ]
    }
   ],
   "source": [
    "# Calculate the total number of non fatal accidents across all categories\n",
    "total_non_fatal_accidents = result['Non_Fatal_Accident'].sum()\n",
    "\n",
    "# Loop through each DEG_URBAN_NAME category and calculate the percentage relative to total fatal accidents\n",
    "for deg_urban_name in result.index:\n",
    "    non_fatal_accidents_category = result.loc[deg_urban_name, 'Non_Fatal_Accident']\n",
    "    percentage_non_fatal = (non_fatal_accidents_category / total_non_fatal_accidents) * 100\n",
    "    result.loc[deg_urban_name, 'Percentage_Non_Fatal'] = percentage_non_fatal\n",
    "\n",
    "# Format the percentages with two digits and a '%' sign\n",
    "result['Percentage_Non_Fatal'] = result['Percentage_Non_Fatal'].apply(lambda x: f'{x:.2f}%')\n",
    "\n",
    "# Display the result\n",
    "print(result)"
   ]
  },
  {
   "cell_type": "code",
   "execution_count": 23,
   "id": "155a802a",
   "metadata": {},
   "outputs": [],
   "source": [
    "# Storing file in Data folder\n",
    "aggregated_data_output_path = Path(\"../Cleaned_Aggregated_Datasets/aggregated_accident.csv\")\n",
    "result.to_csv(aggregated_data_output_path, index=True, header=True)"
   ]
  },
  {
   "cell_type": "code",
   "execution_count": null,
   "id": "deeca07d",
   "metadata": {},
   "outputs": [],
   "source": []
  }
 ],
 "metadata": {
  "kernelspec": {
   "display_name": "Python 3 (ipykernel)",
   "language": "python",
   "name": "python3"
  },
  "language_info": {
   "codemirror_mode": {
    "name": "ipython",
    "version": 3
   },
   "file_extension": ".py",
   "mimetype": "text/x-python",
   "name": "python",
   "nbconvert_exporter": "python",
   "pygments_lexer": "ipython3",
   "version": "3.10.11"
  }
 },
 "nbformat": 4,
 "nbformat_minor": 5
}
