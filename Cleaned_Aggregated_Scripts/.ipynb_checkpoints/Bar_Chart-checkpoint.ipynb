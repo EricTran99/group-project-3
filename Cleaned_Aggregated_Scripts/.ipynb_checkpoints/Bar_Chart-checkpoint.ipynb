{
 "cells": [
  {
   "cell_type": "code",
   "execution_count": 1,
   "id": "5366cfdb",
   "metadata": {},
   "outputs": [],
   "source": [
    "# Import dependencies\n",
    "import pandas as pd\n",
    "from pathlib import Path\n",
    "import numpy as np"
   ]
  },
  {
   "cell_type": "code",
   "execution_count": 2,
   "id": "a4948915",
   "metadata": {},
   "outputs": [],
   "source": [
    "# File to Load\n",
    "cleaned_person_path = Path(\"../Cleaned_Datasets/person_cleaned.csv\")"
   ]
  },
  {
   "cell_type": "code",
   "execution_count": 3,
   "id": "91db12b8",
   "metadata": {},
   "outputs": [],
   "source": [
    "# Read the CSV file\n",
    "cleaned_person_data = pd.read_csv(cleaned_person_path, low_memory=False)"
   ]
  },
  {
   "cell_type": "code",
   "execution_count": 4,
   "id": "effee745",
   "metadata": {},
   "outputs": [
    {
     "data": {
      "text/html": [
       "<div>\n",
       "<style scoped>\n",
       "    .dataframe tbody tr th:only-of-type {\n",
       "        vertical-align: middle;\n",
       "    }\n",
       "\n",
       "    .dataframe tbody tr th {\n",
       "        vertical-align: top;\n",
       "    }\n",
       "\n",
       "    .dataframe thead th {\n",
       "        text-align: right;\n",
       "    }\n",
       "</style>\n",
       "<table border=\"1\" class=\"dataframe\">\n",
       "  <thead>\n",
       "    <tr style=\"text-align: right;\">\n",
       "      <th></th>\n",
       "      <th>ACCIDENT_NO</th>\n",
       "      <th>PERSON_ID</th>\n",
       "      <th>VEHICLE_ID</th>\n",
       "      <th>ACCIDENT_VEHICLE_ID</th>\n",
       "      <th>SEX</th>\n",
       "      <th>AGE</th>\n",
       "      <th>Age_Group</th>\n",
       "      <th>INJ_LEVEL</th>\n",
       "      <th>Inj_Level_Desc</th>\n",
       "      <th>SEATING_POSITION</th>\n",
       "      <th>HELMET_BELT_WORN</th>\n",
       "      <th>ROAD_USER_TYPE</th>\n",
       "      <th>Road_User_Type_Desc</th>\n",
       "      <th>LICENCE_STATE</th>\n",
       "      <th>PEDEST_MOVEMENT</th>\n",
       "      <th>POSTCODE</th>\n",
       "      <th>TAKEN_HOSPITAL</th>\n",
       "      <th>EJECTED_CODE</th>\n",
       "    </tr>\n",
       "  </thead>\n",
       "  <tbody>\n",
       "    <tr>\n",
       "      <th>0</th>\n",
       "      <td>T20060000010</td>\n",
       "      <td>01</td>\n",
       "      <td>A</td>\n",
       "      <td>T20060000010A</td>\n",
       "      <td>F</td>\n",
       "      <td>NaN</td>\n",
       "      <td>unknown</td>\n",
       "      <td>4</td>\n",
       "      <td>Not injured</td>\n",
       "      <td>LF</td>\n",
       "      <td>1</td>\n",
       "      <td>3</td>\n",
       "      <td>Passengers</td>\n",
       "      <td></td>\n",
       "      <td>0</td>\n",
       "      <td>3130.0</td>\n",
       "      <td></td>\n",
       "      <td>0</td>\n",
       "    </tr>\n",
       "    <tr>\n",
       "      <th>1</th>\n",
       "      <td>T20060000010</td>\n",
       "      <td>02</td>\n",
       "      <td>C</td>\n",
       "      <td>T20060000010C</td>\n",
       "      <td>M</td>\n",
       "      <td>43.0</td>\n",
       "      <td>40-49</td>\n",
       "      <td>4</td>\n",
       "      <td>Not injured</td>\n",
       "      <td>LF</td>\n",
       "      <td>1</td>\n",
       "      <td>3</td>\n",
       "      <td>Passengers</td>\n",
       "      <td></td>\n",
       "      <td>0</td>\n",
       "      <td>7310.0</td>\n",
       "      <td></td>\n",
       "      <td>0</td>\n",
       "    </tr>\n",
       "    <tr>\n",
       "      <th>2</th>\n",
       "      <td>T20060000010</td>\n",
       "      <td>03</td>\n",
       "      <td>C</td>\n",
       "      <td>T20060000010C</td>\n",
       "      <td>M</td>\n",
       "      <td>22.0</td>\n",
       "      <td>22-25</td>\n",
       "      <td>4</td>\n",
       "      <td>Not injured</td>\n",
       "      <td>LR</td>\n",
       "      <td>1</td>\n",
       "      <td>3</td>\n",
       "      <td>Passengers</td>\n",
       "      <td></td>\n",
       "      <td>0</td>\n",
       "      <td>7310.0</td>\n",
       "      <td></td>\n",
       "      <td>0</td>\n",
       "    </tr>\n",
       "    <tr>\n",
       "      <th>3</th>\n",
       "      <td>T20060000010</td>\n",
       "      <td>A</td>\n",
       "      <td>A</td>\n",
       "      <td>T20060000010A</td>\n",
       "      <td>M</td>\n",
       "      <td>72.0</td>\n",
       "      <td>70+</td>\n",
       "      <td>4</td>\n",
       "      <td>Not injured</td>\n",
       "      <td>D</td>\n",
       "      <td>1</td>\n",
       "      <td>2</td>\n",
       "      <td>Drivers</td>\n",
       "      <td>V</td>\n",
       "      <td>0</td>\n",
       "      <td>3130.0</td>\n",
       "      <td></td>\n",
       "      <td>0</td>\n",
       "    </tr>\n",
       "    <tr>\n",
       "      <th>4</th>\n",
       "      <td>T20060000010</td>\n",
       "      <td>B</td>\n",
       "      <td>B</td>\n",
       "      <td>T20060000010B</td>\n",
       "      <td>F</td>\n",
       "      <td>62.0</td>\n",
       "      <td>60-64</td>\n",
       "      <td>3</td>\n",
       "      <td>Other injury</td>\n",
       "      <td>D</td>\n",
       "      <td>1</td>\n",
       "      <td>2</td>\n",
       "      <td>Drivers</td>\n",
       "      <td>V</td>\n",
       "      <td>0</td>\n",
       "      <td>NaN</td>\n",
       "      <td>N</td>\n",
       "      <td>0</td>\n",
       "    </tr>\n",
       "  </tbody>\n",
       "</table>\n",
       "</div>"
      ],
      "text/plain": [
       "    ACCIDENT_NO PERSON_ID VEHICLE_ID ACCIDENT_VEHICLE_ID SEX   AGE Age_Group  \\\n",
       "0  T20060000010        01          A       T20060000010A   F   NaN   unknown   \n",
       "1  T20060000010        02          C       T20060000010C   M  43.0     40-49   \n",
       "2  T20060000010        03          C       T20060000010C   M  22.0     22-25   \n",
       "3  T20060000010        A           A       T20060000010A   M  72.0       70+   \n",
       "4  T20060000010        B           B       T20060000010B   F  62.0     60-64   \n",
       "\n",
       "  INJ_LEVEL Inj_Level_Desc SEATING_POSITION HELMET_BELT_WORN ROAD_USER_TYPE  \\\n",
       "0         4    Not injured               LF                1             3    \n",
       "1         4    Not injured               LF                1             3    \n",
       "2         4    Not injured               LR                1             3    \n",
       "3         4    Not injured               D                 1             2    \n",
       "4         3   Other injury               D                 1             2    \n",
       "\n",
       "  Road_User_Type_Desc LICENCE_STATE PEDEST_MOVEMENT  POSTCODE TAKEN_HOSPITAL  \\\n",
       "0          Passengers                             0    3130.0                  \n",
       "1          Passengers                             0    7310.0                  \n",
       "2          Passengers                             0    7310.0                  \n",
       "3             Drivers             V               0    3130.0                  \n",
       "4             Drivers             V               0       NaN              N   \n",
       "\n",
       "  EJECTED_CODE  \n",
       "0            0  \n",
       "1            0  \n",
       "2            0  \n",
       "3            0  \n",
       "4            0  "
      ]
     },
     "execution_count": 4,
     "metadata": {},
     "output_type": "execute_result"
    }
   ],
   "source": [
    "# Store it in a Dataframe\n",
    "cleaned_person_data_df = pd.DataFrame(cleaned_person_data)\n",
    "cleaned_person_data_df.head()"
   ]
  },
  {
   "cell_type": "code",
   "execution_count": 5,
   "id": "c16258e2",
   "metadata": {},
   "outputs": [
    {
     "name": "stdout",
     "output_type": "stream",
     "text": [
      "Index(['ACCIDENT_NO', 'PERSON_ID', 'VEHICLE_ID', 'ACCIDENT_VEHICLE_ID', 'SEX',\n",
      "       'AGE', 'Age_Group', 'INJ_LEVEL', 'Inj_Level_Desc', 'SEATING_POSITION',\n",
      "       'HELMET_BELT_WORN', 'ROAD_USER_TYPE', 'Road_User_Type_Desc',\n",
      "       'LICENCE_STATE', 'PEDEST_MOVEMENT', 'POSTCODE', 'TAKEN_HOSPITAL',\n",
      "       'EJECTED_CODE'],\n",
      "      dtype='object')\n"
     ]
    }
   ],
   "source": [
    "# Print column names\n",
    "column_names = cleaned_person_data_df.columns\n",
    "\n",
    "print(column_names)"
   ]
  },
  {
   "cell_type": "code",
   "execution_count": 6,
   "id": "8c9d536b",
   "metadata": {},
   "outputs": [
    {
     "name": "stdout",
     "output_type": "stream",
     "text": [
      "         ACCIDENT_NO ACCIDENT_VEHICLE_ID Age_Group  Inj_Level_Desc\n",
      "0       T20060000010       T20060000010A   unknown     Not injured\n",
      "1       T20060000010       T20060000010C     40-49     Not injured\n",
      "2       T20060000010       T20060000010C     22-25     Not injured\n",
      "3       T20060000010       T20060000010A       70+     Not injured\n",
      "4       T20060000010       T20060000010B     60-64    Other injury\n",
      "...              ...                 ...       ...             ...\n",
      "490943  T20200019247       T20200019247A     17-21  Serious injury\n",
      "490944  T20200019250       T20200019250A     40-49     Not injured\n",
      "490945  T20200019250       T20200019250B     50-59  Serious injury\n",
      "490946  T20200019253       T20200019253A     64-69  Serious injury\n",
      "490947  T20200019417       T20200019417A     17-21  Serious injury\n",
      "\n",
      "[490948 rows x 4 columns]\n"
     ]
    }
   ],
   "source": [
    "# Columns to drop\n",
    "columns_to_drop = [\"PERSON_ID\", \n",
    "                   \"VEHICLE_ID\", \n",
    "                   \"SEX\",\"AGE\", \n",
    "                   \"INJ_LEVEL\", \n",
    "                   \"SEATING_POSITION\",\n",
    "                   \"HELMET_BELT_WORN\", \n",
    "                   \"ROAD_USER_TYPE\",\n",
    "                   \"Road_User_Type_Desc\",\n",
    "                   \"LICENCE_STATE\",\n",
    "                   \"PEDEST_MOVEMENT\",\n",
    "                   \"POSTCODE\",\n",
    "                   \"TAKEN_HOSPITAL\",\n",
    "                   \"EJECTED_CODE\"\n",
    "                  ]\n",
    "\n",
    "# Use the drop method to remove the specified columns\n",
    "shorted_column_df = cleaned_person_data_df.drop(columns=columns_to_drop)\n",
    "print(shorted_column_df)"
   ]
  },
  {
   "cell_type": "code",
   "execution_count": 7,
   "id": "6b3d9653",
   "metadata": {},
   "outputs": [
    {
     "data": {
      "text/plain": [
       "ACCIDENT_NO            object\n",
       "ACCIDENT_VEHICLE_ID    object\n",
       "Age_Group              object\n",
       "Inj_Level_Desc         object\n",
       "dtype: object"
      ]
     },
     "execution_count": 7,
     "metadata": {},
     "output_type": "execute_result"
    }
   ],
   "source": [
    "# Checking the data types\n",
    "shorted_column_df.dtypes"
   ]
  },
  {
   "cell_type": "code",
   "execution_count": 19,
   "id": "ad9b1ab2",
   "metadata": {},
   "outputs": [
    {
     "data": {
      "text/plain": [
       "ACCIDENT_NO            object\n",
       "ACCIDENT_VEHICLE_ID    object\n",
       "Age_Group              string\n",
       "Inj_Level_Desc         object\n",
       "Injury_Category        object\n",
       "dtype: object"
      ]
     },
     "execution_count": 19,
     "metadata": {},
     "output_type": "execute_result"
    }
   ],
   "source": [
    "# Changing data type into a string\n",
    "shorted_column_df['Age_Group'] = shorted_column_df['Age_Group'].astype(\"string\")\n",
    "shorted_column_df.dtypes"
   ]
  },
  {
   "cell_type": "code",
   "execution_count": 20,
   "id": "b108735d",
   "metadata": {},
   "outputs": [],
   "source": [
    "# Replace '5-Dec' with '5-12' in the 'Age_Group' column\n",
    "shorted_column_df['Age_Group'] = shorted_column_df['Age_Group'].str.replace('5-Dec', ' 5-12')"
   ]
  },
  {
   "cell_type": "code",
   "execution_count": 21,
   "id": "dfa34c70",
   "metadata": {},
   "outputs": [
    {
     "name": "stdout",
     "output_type": "stream",
     "text": [
      "unknown\n",
      "40-49\n",
      "22-25\n",
      "70+\n",
      "60-64\n",
      "30-39\n",
      "17-21\n",
      "50-59\n",
      "26-29\n",
      "16-17\n",
      "13-15\n",
      "5-12\n",
      "0-4\n",
      "64-69\n"
     ]
    }
   ],
   "source": [
    "# Get the unique age group\n",
    "age_unique_values = shorted_column_df['Age_Group'].unique()\n",
    "\n",
    "# Print the unique values\n",
    "for value in age_unique_values:\n",
    "    print(value)"
   ]
  },
  {
   "cell_type": "code",
   "execution_count": 22,
   "id": "a03cfdbd",
   "metadata": {},
   "outputs": [
    {
     "name": "stdout",
     "output_type": "stream",
     "text": [
      "Not injured\n",
      "Other injury\n",
      "Serious injury\n",
      "Fatality\n",
      "Unknown\n"
     ]
    }
   ],
   "source": [
    "# Get the unique injury level\n",
    "inj_unique_values = shorted_column_df['Inj_Level_Desc'].unique()\n",
    "\n",
    "# Print the unique values\n",
    "for value in inj_unique_values:\n",
    "    print(value)"
   ]
  },
  {
   "cell_type": "code",
   "execution_count": 23,
   "id": "5b3286d8",
   "metadata": {},
   "outputs": [
    {
     "name": "stdout",
     "output_type": "stream",
     "text": [
      "         ACCIDENT_NO ACCIDENT_VEHICLE_ID Age_Group  Inj_Level_Desc  \\\n",
      "0       T20060000010       T20060000010A   unknown     Not injured   \n",
      "1       T20060000010       T20060000010C     40-49     Not injured   \n",
      "2       T20060000010       T20060000010C     22-25     Not injured   \n",
      "3       T20060000010       T20060000010A       70+     Not injured   \n",
      "4       T20060000010       T20060000010B     60-64    Other injury   \n",
      "...              ...                 ...       ...             ...   \n",
      "490943  T20200019247       T20200019247A     17-21  Serious injury   \n",
      "490944  T20200019250       T20200019250A     40-49     Not injured   \n",
      "490945  T20200019250       T20200019250B     50-59  Serious injury   \n",
      "490946  T20200019253       T20200019253A     64-69  Serious injury   \n",
      "490947  T20200019417       T20200019417A     17-21  Serious injury   \n",
      "\n",
      "           Injury_Category  \n",
      "0       Non Fatal Accident  \n",
      "1       Non Fatal Accident  \n",
      "2       Non Fatal Accident  \n",
      "3       Non Fatal Accident  \n",
      "4       Non Fatal Accident  \n",
      "...                    ...  \n",
      "490943  Non Fatal Accident  \n",
      "490944  Non Fatal Accident  \n",
      "490945  Non Fatal Accident  \n",
      "490946  Non Fatal Accident  \n",
      "490947  Non Fatal Accident  \n",
      "\n",
      "[490948 rows x 5 columns]\n"
     ]
    }
   ],
   "source": [
    "# Create new category and insert into a new column\n",
    "# Define the conditions and corresponding categories\n",
    "conditions = [\n",
    "    (shorted_column_df['Inj_Level_Desc'] == 'Not injured'),\n",
    "    (shorted_column_df['Inj_Level_Desc'] == 'Other injury'),\n",
    "    (shorted_column_df['Inj_Level_Desc'] == 'Serious injury'),\n",
    "    (shorted_column_df['Inj_Level_Desc'] == 'Unknown'),\n",
    "    (shorted_column_df['Inj_Level_Desc'] == 'Fatality')\n",
    "]\n",
    "\n",
    "categories = ['Non Fatal Accident', 'Non Fatal Accident', 'Non Fatal Accident', 'Non Fatal Accident', 'Fatal Accident']\n",
    "\n",
    "# Use np.select() to create the new column\n",
    "shorted_column_df['Injury_Category'] = np.select(conditions, categories, default='Other Category')\n",
    "\n",
    "# Display the DataFrame with the new 'Injury_Category' column\n",
    "print(shorted_column_df)"
   ]
  },
  {
   "cell_type": "code",
   "execution_count": 24,
   "id": "2e94e60d",
   "metadata": {},
   "outputs": [
    {
     "data": {
      "text/html": [
       "<div>\n",
       "<style scoped>\n",
       "    .dataframe tbody tr th:only-of-type {\n",
       "        vertical-align: middle;\n",
       "    }\n",
       "\n",
       "    .dataframe tbody tr th {\n",
       "        vertical-align: top;\n",
       "    }\n",
       "\n",
       "    .dataframe thead th {\n",
       "        text-align: right;\n",
       "    }\n",
       "</style>\n",
       "<table border=\"1\" class=\"dataframe\">\n",
       "  <thead>\n",
       "    <tr style=\"text-align: right;\">\n",
       "      <th>Injury_Category</th>\n",
       "      <th>Fatal Accident</th>\n",
       "      <th>Non Fatal Accident</th>\n",
       "    </tr>\n",
       "    <tr>\n",
       "      <th>Age_Group</th>\n",
       "      <th></th>\n",
       "      <th></th>\n",
       "    </tr>\n",
       "  </thead>\n",
       "  <tbody>\n",
       "    <tr>\n",
       "      <th>0-4</th>\n",
       "      <td>48</td>\n",
       "      <td>10445</td>\n",
       "    </tr>\n",
       "    <tr>\n",
       "      <th>13-15</th>\n",
       "      <td>48</td>\n",
       "      <td>8412</td>\n",
       "    </tr>\n",
       "    <tr>\n",
       "      <th>16-17</th>\n",
       "      <td>106</td>\n",
       "      <td>9758</td>\n",
       "    </tr>\n",
       "    <tr>\n",
       "      <th>17-21</th>\n",
       "      <td>466</td>\n",
       "      <td>53612</td>\n",
       "    </tr>\n",
       "    <tr>\n",
       "      <th>22-25</th>\n",
       "      <td>331</td>\n",
       "      <td>48901</td>\n",
       "    </tr>\n",
       "    <tr>\n",
       "      <th>26-29</th>\n",
       "      <td>306</td>\n",
       "      <td>41555</td>\n",
       "    </tr>\n",
       "    <tr>\n",
       "      <th>30-39</th>\n",
       "      <td>592</td>\n",
       "      <td>84047</td>\n",
       "    </tr>\n",
       "    <tr>\n",
       "      <th>40-49</th>\n",
       "      <td>527</td>\n",
       "      <td>71697</td>\n",
       "    </tr>\n",
       "    <tr>\n",
       "      <th>5-12</th>\n",
       "      <td>52</td>\n",
       "      <td>17486</td>\n",
       "    </tr>\n",
       "    <tr>\n",
       "      <th>50-59</th>\n",
       "      <td>471</td>\n",
       "      <td>55390</td>\n",
       "    </tr>\n",
       "    <tr>\n",
       "      <th>60-64</th>\n",
       "      <td>226</td>\n",
       "      <td>20037</td>\n",
       "    </tr>\n",
       "    <tr>\n",
       "      <th>64-69</th>\n",
       "      <td>167</td>\n",
       "      <td>14578</td>\n",
       "    </tr>\n",
       "    <tr>\n",
       "      <th>70+</th>\n",
       "      <td>688</td>\n",
       "      <td>29373</td>\n",
       "    </tr>\n",
       "    <tr>\n",
       "      <th>unknown</th>\n",
       "      <td>12</td>\n",
       "      <td>21617</td>\n",
       "    </tr>\n",
       "  </tbody>\n",
       "</table>\n",
       "</div>"
      ],
      "text/plain": [
       "Injury_Category  Fatal Accident  Non Fatal Accident\n",
       "Age_Group                                          \n",
       "0-4                          48               10445\n",
       "13-15                        48                8412\n",
       "16-17                       106                9758\n",
       "17-21                       466               53612\n",
       "22-25                       331               48901\n",
       "26-29                       306               41555\n",
       "30-39                       592               84047\n",
       "40-49                       527               71697\n",
       "5-12                         52               17486\n",
       "50-59                       471               55390\n",
       "60-64                       226               20037\n",
       "64-69                       167               14578\n",
       "70+                         688               29373\n",
       "unknown                      12               21617"
      ]
     },
     "execution_count": 24,
     "metadata": {},
     "output_type": "execute_result"
    }
   ],
   "source": [
    "# Group by 'Age_Group' and count the occurrences of 'Fatality' and 'Non-Fatality'\n",
    "aggregated_result_df = shorted_column_df.groupby('Age_Group')['Injury_Category'].value_counts().unstack(fill_value=0)\n",
    "aggregated_result_df"
   ]
  },
  {
   "cell_type": "code",
   "execution_count": 25,
   "id": "ef208d1e",
   "metadata": {},
   "outputs": [],
   "source": [
    "# Storing file in Data folder\n",
    "aggregated_data_output_path = Path(\"../Cleaned_Aggregated_Datasets/aggregated_person.csv\")\n",
    "aggregated_result_df.to_csv(aggregated_data_output_path, index=True, header=True)"
   ]
  }
 ],
 "metadata": {
  "kernelspec": {
   "display_name": "Python 3 (ipykernel)",
   "language": "python",
   "name": "python3"
  },
  "language_info": {
   "codemirror_mode": {
    "name": "ipython",
    "version": 3
   },
   "file_extension": ".py",
   "mimetype": "text/x-python",
   "name": "python",
   "nbconvert_exporter": "python",
   "pygments_lexer": "ipython3",
   "version": "3.10.11"
  }
 },
 "nbformat": 4,
 "nbformat_minor": 5
}
